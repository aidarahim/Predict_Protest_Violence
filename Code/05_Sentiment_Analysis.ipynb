{
 "cells": [
  {
   "cell_type": "markdown",
   "metadata": {},
   "source": [
    "# Count Vectorizer/ TF-ID Vect and Sentimental Analysis"
   ]
  },
  {
   "cell_type": "code",
   "execution_count": 1,
   "metadata": {},
   "outputs": [],
   "source": [
    "# Data Imports\n",
    "import pandas as pd\n",
    "import numpy as np\n",
    "import matplotlib.pyplot as plt\n",
    "import seaborn as sns\n",
    "\n",
    "\n",
    "# Word Model imports\n",
    "from sklearn.model_selection import train_test_split\n",
    "from sklearn.feature_extraction.text import CountVectorizer, TfidfVectorizer\n",
    "from nltk.sentiment.vader import SentimentIntensityAnalyzer\n",
    "from nltk.corpus import stopwords"
   ]
  },
  {
   "cell_type": "code",
   "execution_count": 2,
   "metadata": {},
   "outputs": [],
   "source": [
    "protest = pd.read_csv(\"../Data/integrated_protest.csv\") # read in data"
   ]
  },
  {
   "cell_type": "code",
   "execution_count": 3,
   "metadata": {},
   "outputs": [
    {
     "data": {
      "text/plain": [
       "Index(['id', 'date', 'month', 'year', 'city', 'state', 'time_precision',\n",
       "       'event_type', 'sub_event_type', 'actor1', 'assoc_actor_1',\n",
       "       'type_actor1', 'actor2', 'assoc_actor_2', 'type_actor2', 'interaction',\n",
       "       'notes', 'fatalities', 'county', 'latitude', 'longitude',\n",
       "       'geo_precision', 'source_x', 'source_scale', 'attendees', 'tags',\n",
       "       'curated', 'source_y', 'total_articles', 'totalpop', 'povertyrate',\n",
       "       'blackpop', 'blackpovertyrate', 'asianpop', 'asianpoverty',\n",
       "       'hispanicpop', 'hispanicpoverty', 'whitepop', 'whitepovertyrate',\n",
       "       'percentbachelor', 'sqmiles', 'deaths', 'deaths_unarmed',\n",
       "       'deaths_unarmed_black', 'deaths_armed_black', 'deaths_black',\n",
       "       'deaths_protestyear', 'deaths_protestyear_unarmed', 'naacpyears',\n",
       "       'mayorpartisanship', 'blackmayor', 'dem', 'rep', 'dem_share', 'pop',\n",
       "       'hbcu', 'hbcu2', 'crime', 'deathduring', 'per_ba', 'per_black',\n",
       "       'pop_density', 'collegeenrollpc', 'mayorrep', 'unarmed_deaths_pc',\n",
       "       'deaths_pc', 'unarmed_deaths_black_pc', 'deaths_black_pc'],\n",
       "      dtype='object')"
      ]
     },
     "execution_count": 3,
     "metadata": {},
     "output_type": "execute_result"
    }
   ],
   "source": [
    "protest.columns # check the columns"
   ]
  },
  {
   "cell_type": "code",
   "execution_count": 4,
   "metadata": {},
   "outputs": [
    {
     "data": {
      "text/html": [
       "<div>\n",
       "<style scoped>\n",
       "    .dataframe tbody tr th:only-of-type {\n",
       "        vertical-align: middle;\n",
       "    }\n",
       "\n",
       "    .dataframe tbody tr th {\n",
       "        vertical-align: top;\n",
       "    }\n",
       "\n",
       "    .dataframe thead th {\n",
       "        text-align: right;\n",
       "    }\n",
       "</style>\n",
       "<table border=\"1\" class=\"dataframe\">\n",
       "  <thead>\n",
       "    <tr style=\"text-align: right;\">\n",
       "      <th></th>\n",
       "      <th>id</th>\n",
       "      <th>date</th>\n",
       "      <th>month</th>\n",
       "      <th>year</th>\n",
       "      <th>city</th>\n",
       "      <th>state</th>\n",
       "      <th>time_precision</th>\n",
       "      <th>event_type</th>\n",
       "      <th>sub_event_type</th>\n",
       "      <th>actor1</th>\n",
       "      <th>...</th>\n",
       "      <th>deathduring</th>\n",
       "      <th>per_ba</th>\n",
       "      <th>per_black</th>\n",
       "      <th>pop_density</th>\n",
       "      <th>collegeenrollpc</th>\n",
       "      <th>mayorrep</th>\n",
       "      <th>unarmed_deaths_pc</th>\n",
       "      <th>deaths_pc</th>\n",
       "      <th>unarmed_deaths_black_pc</th>\n",
       "      <th>deaths_black_pc</th>\n",
       "    </tr>\n",
       "  </thead>\n",
       "  <tbody>\n",
       "    <tr>\n",
       "      <th>0</th>\n",
       "      <td>2020-01-01_cleveland_oh</td>\n",
       "      <td>2020-01-01</td>\n",
       "      <td>1</td>\n",
       "      <td>2020</td>\n",
       "      <td>cleveland</td>\n",
       "      <td>oh</td>\n",
       "      <td>1</td>\n",
       "      <td>Protests</td>\n",
       "      <td>Peaceful protest</td>\n",
       "      <td>Protesters (United States)</td>\n",
       "      <td>...</td>\n",
       "      <td>1.0</td>\n",
       "      <td>15.344030</td>\n",
       "      <td>52.543568</td>\n",
       "      <td>4917.840708</td>\n",
       "      <td>11.794585</td>\n",
       "      <td>0.0</td>\n",
       "      <td>0.026210</td>\n",
       "      <td>0.052420</td>\n",
       "      <td>0.026210</td>\n",
       "      <td>0.026210</td>\n",
       "    </tr>\n",
       "    <tr>\n",
       "      <th>1</th>\n",
       "      <td>2020-01-01_rochester_ny</td>\n",
       "      <td>2020-01-01</td>\n",
       "      <td>1</td>\n",
       "      <td>2020</td>\n",
       "      <td>rochester</td>\n",
       "      <td>ny</td>\n",
       "      <td>1</td>\n",
       "      <td>Protests</td>\n",
       "      <td>Peaceful protest</td>\n",
       "      <td>Protesters (United States)</td>\n",
       "      <td>...</td>\n",
       "      <td>1.0</td>\n",
       "      <td>24.521139</td>\n",
       "      <td>41.828799</td>\n",
       "      <td>5633.751292</td>\n",
       "      <td>7.435350</td>\n",
       "      <td>0.0</td>\n",
       "      <td>0.000000</td>\n",
       "      <td>0.049569</td>\n",
       "      <td>0.000000</td>\n",
       "      <td>0.049569</td>\n",
       "    </tr>\n",
       "    <tr>\n",
       "      <th>2</th>\n",
       "      <td>2020-01-01_oakland_ca</td>\n",
       "      <td>2020-01-01</td>\n",
       "      <td>1</td>\n",
       "      <td>2020</td>\n",
       "      <td>oakland</td>\n",
       "      <td>ca</td>\n",
       "      <td>1</td>\n",
       "      <td>Protests</td>\n",
       "      <td>Peaceful protest</td>\n",
       "      <td>Protesters (United States)</td>\n",
       "      <td>...</td>\n",
       "      <td>0.0</td>\n",
       "      <td>38.786488</td>\n",
       "      <td>26.122586</td>\n",
       "      <td>7106.899885</td>\n",
       "      <td>2.519126</td>\n",
       "      <td>0.0</td>\n",
       "      <td>0.050383</td>\n",
       "      <td>0.151148</td>\n",
       "      <td>0.025191</td>\n",
       "      <td>0.075574</td>\n",
       "    </tr>\n",
       "    <tr>\n",
       "      <th>3</th>\n",
       "      <td>2020-01-01_phoenix_az</td>\n",
       "      <td>2020-01-01</td>\n",
       "      <td>1</td>\n",
       "      <td>2020</td>\n",
       "      <td>phoenix</td>\n",
       "      <td>az</td>\n",
       "      <td>1</td>\n",
       "      <td>Protests</td>\n",
       "      <td>Peaceful protest</td>\n",
       "      <td>Protesters (United States)</td>\n",
       "      <td>...</td>\n",
       "      <td>1.0</td>\n",
       "      <td>26.665009</td>\n",
       "      <td>6.802070</td>\n",
       "      <td>2859.173515</td>\n",
       "      <td>1.018071</td>\n",
       "      <td>0.0</td>\n",
       "      <td>0.033936</td>\n",
       "      <td>0.190040</td>\n",
       "      <td>0.013574</td>\n",
       "      <td>0.020361</td>\n",
       "    </tr>\n",
       "    <tr>\n",
       "      <th>4</th>\n",
       "      <td>2020-01-01_oklahoma_city_ok</td>\n",
       "      <td>2020-01-01</td>\n",
       "      <td>1</td>\n",
       "      <td>2020</td>\n",
       "      <td>oklahoma_city</td>\n",
       "      <td>ok</td>\n",
       "      <td>1</td>\n",
       "      <td>Protests</td>\n",
       "      <td>Peaceful protest</td>\n",
       "      <td>Protesters (United States)</td>\n",
       "      <td>...</td>\n",
       "      <td>1.0</td>\n",
       "      <td>28.818236</td>\n",
       "      <td>14.450975</td>\n",
       "      <td>971.028426</td>\n",
       "      <td>0.424554</td>\n",
       "      <td>1.0</td>\n",
       "      <td>0.016982</td>\n",
       "      <td>0.220768</td>\n",
       "      <td>0.000000</td>\n",
       "      <td>0.101893</td>\n",
       "    </tr>\n",
       "    <tr>\n",
       "      <th>...</th>\n",
       "      <td>...</td>\n",
       "      <td>...</td>\n",
       "      <td>...</td>\n",
       "      <td>...</td>\n",
       "      <td>...</td>\n",
       "      <td>...</td>\n",
       "      <td>...</td>\n",
       "      <td>...</td>\n",
       "      <td>...</td>\n",
       "      <td>...</td>\n",
       "      <td>...</td>\n",
       "      <td>...</td>\n",
       "      <td>...</td>\n",
       "      <td>...</td>\n",
       "      <td>...</td>\n",
       "      <td>...</td>\n",
       "      <td>...</td>\n",
       "      <td>...</td>\n",
       "      <td>...</td>\n",
       "      <td>...</td>\n",
       "      <td>...</td>\n",
       "    </tr>\n",
       "    <tr>\n",
       "      <th>27624</th>\n",
       "      <td>2021-03-05_fayetteville_nc</td>\n",
       "      <td>2021-03-05</td>\n",
       "      <td>3</td>\n",
       "      <td>2021</td>\n",
       "      <td>fayetteville</td>\n",
       "      <td>nc</td>\n",
       "      <td>1</td>\n",
       "      <td>Protests</td>\n",
       "      <td>Peaceful protest</td>\n",
       "      <td>Protesters (United States)</td>\n",
       "      <td>...</td>\n",
       "      <td>0.0</td>\n",
       "      <td>25.414259</td>\n",
       "      <td>41.915571</td>\n",
       "      <td>1315.386303</td>\n",
       "      <td>11.730542</td>\n",
       "      <td>1.0</td>\n",
       "      <td>0.000000</td>\n",
       "      <td>0.208543</td>\n",
       "      <td>0.000000</td>\n",
       "      <td>0.156407</td>\n",
       "    </tr>\n",
       "    <tr>\n",
       "      <th>27625</th>\n",
       "      <td>2021-03-05_salisbury_nc</td>\n",
       "      <td>2021-03-05</td>\n",
       "      <td>3</td>\n",
       "      <td>2021</td>\n",
       "      <td>salisbury</td>\n",
       "      <td>nc</td>\n",
       "      <td>1</td>\n",
       "      <td>Protests</td>\n",
       "      <td>Peaceful protest</td>\n",
       "      <td>Protesters (United States)</td>\n",
       "      <td>...</td>\n",
       "      <td>NaN</td>\n",
       "      <td>NaN</td>\n",
       "      <td>NaN</td>\n",
       "      <td>NaN</td>\n",
       "      <td>NaN</td>\n",
       "      <td>NaN</td>\n",
       "      <td>NaN</td>\n",
       "      <td>NaN</td>\n",
       "      <td>NaN</td>\n",
       "      <td>NaN</td>\n",
       "    </tr>\n",
       "    <tr>\n",
       "      <th>27626</th>\n",
       "      <td>2021-03-05_verona_nj</td>\n",
       "      <td>2021-03-05</td>\n",
       "      <td>3</td>\n",
       "      <td>2021</td>\n",
       "      <td>verona</td>\n",
       "      <td>nj</td>\n",
       "      <td>1</td>\n",
       "      <td>Protests</td>\n",
       "      <td>Peaceful protest</td>\n",
       "      <td>Protesters (United States)</td>\n",
       "      <td>...</td>\n",
       "      <td>NaN</td>\n",
       "      <td>NaN</td>\n",
       "      <td>NaN</td>\n",
       "      <td>NaN</td>\n",
       "      <td>NaN</td>\n",
       "      <td>NaN</td>\n",
       "      <td>NaN</td>\n",
       "      <td>NaN</td>\n",
       "      <td>NaN</td>\n",
       "      <td>NaN</td>\n",
       "    </tr>\n",
       "    <tr>\n",
       "      <th>27627</th>\n",
       "      <td>2021-03-05_minneapolis_mn</td>\n",
       "      <td>2021-03-05</td>\n",
       "      <td>3</td>\n",
       "      <td>2021</td>\n",
       "      <td>minneapolis</td>\n",
       "      <td>mn</td>\n",
       "      <td>1</td>\n",
       "      <td>Protests</td>\n",
       "      <td>Peaceful protest</td>\n",
       "      <td>Protesters (United States)</td>\n",
       "      <td>...</td>\n",
       "      <td>0.0</td>\n",
       "      <td>47.561009</td>\n",
       "      <td>17.989143</td>\n",
       "      <td>6916.799007</td>\n",
       "      <td>11.215999</td>\n",
       "      <td>0.0</td>\n",
       "      <td>0.000000</td>\n",
       "      <td>0.052781</td>\n",
       "      <td>0.000000</td>\n",
       "      <td>0.026391</td>\n",
       "    </tr>\n",
       "    <tr>\n",
       "      <th>27628</th>\n",
       "      <td>2021-03-05_mount_juliet_tn</td>\n",
       "      <td>2021-03-05</td>\n",
       "      <td>3</td>\n",
       "      <td>2021</td>\n",
       "      <td>mount_juliet</td>\n",
       "      <td>tn</td>\n",
       "      <td>1</td>\n",
       "      <td>Protests</td>\n",
       "      <td>Protest with intervention</td>\n",
       "      <td>Protesters (United States)</td>\n",
       "      <td>...</td>\n",
       "      <td>NaN</td>\n",
       "      <td>NaN</td>\n",
       "      <td>NaN</td>\n",
       "      <td>NaN</td>\n",
       "      <td>NaN</td>\n",
       "      <td>NaN</td>\n",
       "      <td>NaN</td>\n",
       "      <td>NaN</td>\n",
       "      <td>NaN</td>\n",
       "      <td>NaN</td>\n",
       "    </tr>\n",
       "  </tbody>\n",
       "</table>\n",
       "<p>27629 rows × 68 columns</p>\n",
       "</div>"
      ],
      "text/plain": [
       "                                id        date  month  year           city  \\\n",
       "0          2020-01-01_cleveland_oh  2020-01-01      1  2020      cleveland   \n",
       "1          2020-01-01_rochester_ny  2020-01-01      1  2020      rochester   \n",
       "2            2020-01-01_oakland_ca  2020-01-01      1  2020        oakland   \n",
       "3            2020-01-01_phoenix_az  2020-01-01      1  2020        phoenix   \n",
       "4      2020-01-01_oklahoma_city_ok  2020-01-01      1  2020  oklahoma_city   \n",
       "...                            ...         ...    ...   ...            ...   \n",
       "27624   2021-03-05_fayetteville_nc  2021-03-05      3  2021   fayetteville   \n",
       "27625      2021-03-05_salisbury_nc  2021-03-05      3  2021      salisbury   \n",
       "27626         2021-03-05_verona_nj  2021-03-05      3  2021         verona   \n",
       "27627    2021-03-05_minneapolis_mn  2021-03-05      3  2021    minneapolis   \n",
       "27628   2021-03-05_mount_juliet_tn  2021-03-05      3  2021   mount_juliet   \n",
       "\n",
       "      state  time_precision event_type             sub_event_type  \\\n",
       "0        oh               1   Protests           Peaceful protest   \n",
       "1        ny               1   Protests           Peaceful protest   \n",
       "2        ca               1   Protests           Peaceful protest   \n",
       "3        az               1   Protests           Peaceful protest   \n",
       "4        ok               1   Protests           Peaceful protest   \n",
       "...     ...             ...        ...                        ...   \n",
       "27624    nc               1   Protests           Peaceful protest   \n",
       "27625    nc               1   Protests           Peaceful protest   \n",
       "27626    nj               1   Protests           Peaceful protest   \n",
       "27627    mn               1   Protests           Peaceful protest   \n",
       "27628    tn               1   Protests  Protest with intervention   \n",
       "\n",
       "                           actor1  ... deathduring     per_ba  per_black  \\\n",
       "0      Protesters (United States)  ...         1.0  15.344030  52.543568   \n",
       "1      Protesters (United States)  ...         1.0  24.521139  41.828799   \n",
       "2      Protesters (United States)  ...         0.0  38.786488  26.122586   \n",
       "3      Protesters (United States)  ...         1.0  26.665009   6.802070   \n",
       "4      Protesters (United States)  ...         1.0  28.818236  14.450975   \n",
       "...                           ...  ...         ...        ...        ...   \n",
       "27624  Protesters (United States)  ...         0.0  25.414259  41.915571   \n",
       "27625  Protesters (United States)  ...         NaN        NaN        NaN   \n",
       "27626  Protesters (United States)  ...         NaN        NaN        NaN   \n",
       "27627  Protesters (United States)  ...         0.0  47.561009  17.989143   \n",
       "27628  Protesters (United States)  ...         NaN        NaN        NaN   \n",
       "\n",
       "       pop_density  collegeenrollpc  mayorrep unarmed_deaths_pc  deaths_pc  \\\n",
       "0      4917.840708        11.794585       0.0          0.026210   0.052420   \n",
       "1      5633.751292         7.435350       0.0          0.000000   0.049569   \n",
       "2      7106.899885         2.519126       0.0          0.050383   0.151148   \n",
       "3      2859.173515         1.018071       0.0          0.033936   0.190040   \n",
       "4       971.028426         0.424554       1.0          0.016982   0.220768   \n",
       "...            ...              ...       ...               ...        ...   \n",
       "27624  1315.386303        11.730542       1.0          0.000000   0.208543   \n",
       "27625          NaN              NaN       NaN               NaN        NaN   \n",
       "27626          NaN              NaN       NaN               NaN        NaN   \n",
       "27627  6916.799007        11.215999       0.0          0.000000   0.052781   \n",
       "27628          NaN              NaN       NaN               NaN        NaN   \n",
       "\n",
       "      unarmed_deaths_black_pc  deaths_black_pc  \n",
       "0                    0.026210         0.026210  \n",
       "1                    0.000000         0.049569  \n",
       "2                    0.025191         0.075574  \n",
       "3                    0.013574         0.020361  \n",
       "4                    0.000000         0.101893  \n",
       "...                       ...              ...  \n",
       "27624                0.000000         0.156407  \n",
       "27625                     NaN              NaN  \n",
       "27626                     NaN              NaN  \n",
       "27627                0.000000         0.026391  \n",
       "27628                     NaN              NaN  \n",
       "\n",
       "[27629 rows x 68 columns]"
      ]
     },
     "execution_count": 4,
     "metadata": {},
     "output_type": "execute_result"
    }
   ],
   "source": [
    "protest # see how the df ouputs"
   ]
  },
  {
   "cell_type": "code",
   "execution_count": 5,
   "metadata": {},
   "outputs": [
    {
     "data": {
      "text/plain": [
       "id                            0\n",
       "date                          0\n",
       "month                         0\n",
       "year                          0\n",
       "city                          0\n",
       "                           ... \n",
       "mayorrep                   9994\n",
       "unarmed_deaths_pc          9994\n",
       "deaths_pc                  9994\n",
       "unarmed_deaths_black_pc    9994\n",
       "deaths_black_pc            9994\n",
       "Length: 68, dtype: int64"
      ]
     },
     "execution_count": 5,
     "metadata": {},
     "output_type": "execute_result"
    }
   ],
   "source": [
    "protest.isnull().sum() # check for nulls"
   ]
  },
  {
   "cell_type": "code",
   "execution_count": 6,
   "metadata": {},
   "outputs": [
    {
     "data": {
      "text/plain": [
       "id                       0\n",
       "date                     0\n",
       "city                     0\n",
       "state                    0\n",
       "event_type               0\n",
       "sub_event_type           0\n",
       "actor1                   0\n",
       "assoc_actor_1         7459\n",
       "actor2               23602\n",
       "assoc_actor_2        26281\n",
       "notes                    0\n",
       "county                   5\n",
       "source_x                 0\n",
       "source_scale             0\n",
       "tags                 14237\n",
       "curated              14237\n",
       "source_y             14237\n",
       "mayorpartisanship    10293\n",
       "dtype: int64"
      ]
     },
     "execution_count": 6,
     "metadata": {},
     "output_type": "execute_result"
    }
   ],
   "source": [
    "protest.select_dtypes(include='object').isnull().sum() # check for nulls in only string columns"
   ]
  },
  {
   "cell_type": "code",
   "execution_count": 7,
   "metadata": {},
   "outputs": [
    {
     "data": {
      "text/plain": [
       "month                             0\n",
       "year                              0\n",
       "time_precision                    0\n",
       "type_actor1                       0\n",
       "type_actor2                       0\n",
       "interaction                       0\n",
       "fatalities                        0\n",
       "latitude                          0\n",
       "longitude                         0\n",
       "geo_precision                     0\n",
       "attendees                     11372\n",
       "total_articles                14237\n",
       "totalpop                       9994\n",
       "povertyrate                    9994\n",
       "blackpop                       9994\n",
       "blackpovertyrate               9994\n",
       "asianpop                       9994\n",
       "asianpoverty                   9994\n",
       "hispanicpop                    9994\n",
       "hispanicpoverty                9994\n",
       "whitepop                       9994\n",
       "whitepovertyrate               9994\n",
       "percentbachelor                9994\n",
       "sqmiles                        9994\n",
       "deaths                         9994\n",
       "deaths_unarmed                 9994\n",
       "deaths_unarmed_black           9994\n",
       "deaths_armed_black             9994\n",
       "deaths_black                   9994\n",
       "deaths_protestyear             9994\n",
       "deaths_protestyear_unarmed     9994\n",
       "naacpyears                     9994\n",
       "blackmayor                    10293\n",
       "dem                           11930\n",
       "rep                           11930\n",
       "dem_share                     11930\n",
       "pop                            9994\n",
       "hbcu                           9994\n",
       "hbcu2                          9994\n",
       "crime                          9994\n",
       "deathduring                    9994\n",
       "per_ba                         9994\n",
       "per_black                      9994\n",
       "pop_density                    9994\n",
       "collegeenrollpc                9994\n",
       "mayorrep                       9994\n",
       "unarmed_deaths_pc              9994\n",
       "deaths_pc                      9994\n",
       "unarmed_deaths_black_pc        9994\n",
       "deaths_black_pc                9994\n",
       "dtype: int64"
      ]
     },
     "execution_count": 7,
     "metadata": {},
     "output_type": "execute_result"
    }
   ],
   "source": [
    "protest.select_dtypes(exclude='object').isnull().sum() # check for nulls in only numeric columns"
   ]
  },
  {
   "cell_type": "code",
   "execution_count": 8,
   "metadata": {},
   "outputs": [],
   "source": [
    "# generate a list comprehension to outout each sentence from the text column: protest['notes']\n",
    "# [quote for quote in protest['notes'] if 'police' in quote.lower()]"
   ]
  },
  {
   "cell_type": "code",
   "execution_count": 9,
   "metadata": {},
   "outputs": [],
   "source": [
    "# locate rows with each word present\n",
    "\n",
    "# police_quote = protest[protest['notes'].str.contains(('police').lower())]\n",
    "# officer_quote = protest[protest['notes'].str.contains(('officer').lower())]\n",
    "# quote = pd.concat([police_quote,officer_quote],)\n",
    "# quote"
   ]
  },
  {
   "cell_type": "code",
   "execution_count": 10,
   "metadata": {},
   "outputs": [
    {
     "data": {
      "text/plain": [
       "Peaceful protest                      24261\n",
       "Violent demonstration                  1000\n",
       "Protest with intervention               966\n",
       "Other                                   681\n",
       "Change to group/activity                360\n",
       "Excessive force against protesters      127\n",
       "Attack                                  105\n",
       "Mob violence                             48\n",
       "Arrests                                  32\n",
       "Looting/property destruction             22\n",
       "Disrupted weapons use                    12\n",
       "Armed clash                              10\n",
       "Sexual violence                           2\n",
       "Suicide bomb                              1\n",
       "Grenade                                   1\n",
       "Remote explosive/landmine/IED             1\n",
       "Name: sub_event_type, dtype: int64"
      ]
     },
     "execution_count": 10,
     "metadata": {},
     "output_type": "execute_result"
    }
   ],
   "source": [
    "protest['sub_event_type'].value_counts() # see how many values are in the 'sub_event_type' column"
   ]
  },
  {
   "cell_type": "code",
   "execution_count": 11,
   "metadata": {},
   "outputs": [],
   "source": [
    "# dummify target variable\n",
    "protest = pd.get_dummies(protest, columns=['sub_event_type'], prefix=\"\", prefix_sep=\"\")"
   ]
  },
  {
   "cell_type": "code",
   "execution_count": 12,
   "metadata": {},
   "outputs": [
    {
     "data": {
      "text/plain": [
       "Index(['id', 'date', 'month', 'year', 'city', 'state', 'time_precision',\n",
       "       'event_type', 'actor1', 'assoc_actor_1', 'type_actor1', 'actor2',\n",
       "       'assoc_actor_2', 'type_actor2', 'interaction', 'notes', 'fatalities',\n",
       "       'county', 'latitude', 'longitude', 'geo_precision', 'source_x',\n",
       "       'source_scale', 'attendees', 'tags', 'curated', 'source_y',\n",
       "       'total_articles', 'totalpop', 'povertyrate', 'blackpop',\n",
       "       'blackpovertyrate', 'asianpop', 'asianpoverty', 'hispanicpop',\n",
       "       'hispanicpoverty', 'whitepop', 'whitepovertyrate', 'percentbachelor',\n",
       "       'sqmiles', 'deaths', 'deaths_unarmed', 'deaths_unarmed_black',\n",
       "       'deaths_armed_black', 'deaths_black', 'deaths_protestyear',\n",
       "       'deaths_protestyear_unarmed', 'naacpyears', 'mayorpartisanship',\n",
       "       'blackmayor', 'dem', 'rep', 'dem_share', 'pop', 'hbcu', 'hbcu2',\n",
       "       'crime', 'deathduring', 'per_ba', 'per_black', 'pop_density',\n",
       "       'collegeenrollpc', 'mayorrep', 'unarmed_deaths_pc', 'deaths_pc',\n",
       "       'unarmed_deaths_black_pc', 'deaths_black_pc', 'Armed clash', 'Arrests',\n",
       "       'Attack', 'Change to group/activity', 'Disrupted weapons use',\n",
       "       'Excessive force against protesters', 'Grenade',\n",
       "       'Looting/property destruction', 'Mob violence', 'Other',\n",
       "       'Peaceful protest', 'Protest with intervention',\n",
       "       'Remote explosive/landmine/IED', 'Sexual violence', 'Suicide bomb',\n",
       "       'Violent demonstration'],\n",
       "      dtype='object')"
      ]
     },
     "execution_count": 12,
     "metadata": {},
     "output_type": "execute_result"
    }
   ],
   "source": [
    "# check target variable dummification columns\n",
    "protest.columns"
   ]
  },
  {
   "cell_type": "markdown",
   "metadata": {},
   "source": [
    "### Assign Target and Feature"
   ]
  },
  {
   "cell_type": "code",
   "execution_count": 13,
   "metadata": {},
   "outputs": [],
   "source": [
    "X = protest['notes']\n",
    "y = protest['Peaceful protest']"
   ]
  },
  {
   "cell_type": "markdown",
   "metadata": {},
   "source": [
    "### Baseline Accuracy"
   ]
  },
  {
   "cell_type": "code",
   "execution_count": 14,
   "metadata": {},
   "outputs": [
    {
     "data": {
      "text/plain": [
       "1    0.878099\n",
       "0    0.121901\n",
       "Name: Peaceful protest, dtype: float64"
      ]
     },
     "execution_count": 14,
     "metadata": {},
     "output_type": "execute_result"
    }
   ],
   "source": [
    "y.value_counts(normalize=True) # Reference peaceful protest"
   ]
  },
  {
   "cell_type": "markdown",
   "metadata": {},
   "source": [
    "**Interpretation:** If one would say the syntax in notes are mainly based on peaceful protest, they will be correct 87% of the time."
   ]
  },
  {
   "cell_type": "code",
   "execution_count": 15,
   "metadata": {},
   "outputs": [
    {
     "data": {
      "image/png": "[encoded data removed]",
      "text/plain": [
       "<Figure size 432x288 with 1 Axes>"
      ]
     },
     "metadata": {
      "needs_background": "light"
     },
     "output_type": "display_data"
    }
   ],
   "source": [
    "# visualize the baseline accuracy\n",
    "base = sns.countplot(data=protest,x=y)\n",
    "base.set_xticklabels(['Violent','Peaceful'])\n",
    "plt.ylabel('Number of events')\n",
    "plt.xlabel('Type of event')\n",
    "plt.show()"
   ]
  },
  {
   "cell_type": "markdown",
   "metadata": {},
   "source": [
    "______\n",
    "# Count Vectorizer"
   ]
  },
  {
   "cell_type": "code",
   "execution_count": 16,
   "metadata": {},
   "outputs": [],
   "source": [
    "# Split the data into the training and testing sets. \n",
    "# Stratify to target so that the test and train target values remain evenly proportioned.\n",
    "X_train, X_test, y_train, y_test = train_test_split(X, y, stratify=y, random_state=42)"
   ]
  },
  {
   "cell_type": "code",
   "execution_count": 17,
   "metadata": {},
   "outputs": [],
   "source": [
    "stopword = stopwords.words('english')\n",
    "stop_word2 = ['size','2020','people','june','group']\n",
    "stopword.extend(stop_word2)"
   ]
  },
  {
   "cell_type": "code",
   "execution_count": 18,
   "metadata": {},
   "outputs": [],
   "source": [
    "cv = CountVectorizer(min_df=2,max_df=.98,stop_words=(stopword)) # Instantiate Count Vectorizer\n",
    "cv_train = cv.fit_transform(X_train) # fit and transform on training data\n",
    "cv_test =  cv.transform(X_train)"
   ]
  },
  {
   "cell_type": "code",
   "execution_count": 19,
   "metadata": {},
   "outputs": [],
   "source": [
    "cv_train_df = pd.DataFrame(cv_train.todense(),columns=cv.get_feature_names()) # CV into dataframe"
   ]
  },
  {
   "cell_type": "code",
   "execution_count": 20,
   "metadata": {},
   "outputs": [
    {
     "data": {
      "text/plain": [
       "police         12118\n",
       "support        10842\n",
       "black          10186\n",
       "protest         9870\n",
       "lives           8822\n",
       "matter          8597\n",
       "report          8305\n",
       "movement        7990\n",
       "brutality       6411\n",
       "gathered        4978\n",
       "floyd           4606\n",
       "george          4549\n",
       "death           4513\n",
       "staged          4348\n",
       "coronavirus     3963\n",
       "protesters      3641\n",
       "new             3525\n",
       "protested       3248\n",
       "hundreds        3136\n",
       "100             3067\n",
       "dtype: int64"
      ]
     },
     "execution_count": 20,
     "metadata": {},
     "output_type": "execute_result"
    }
   ],
   "source": [
    "cv_train_df.sum().sort_values(ascending=False).head(20) # find the most word occurances in the df (top 20)"
   ]
  },
  {
   "cell_type": "code",
   "execution_count": 21,
   "metadata": {},
   "outputs": [
    {
     "data": {
      "image/png": "[encoded data removed]",
      "text/plain": [
       "<Figure size 720x576 with 1 Axes>"
      ]
     },
     "metadata": {
      "needs_background": "light"
     },
     "output_type": "display_data"
    }
   ],
   "source": [
    "# Plot top 20 words\n",
    "plt.figure(figsize=(10,8))\n",
    "cv_train_df.sum().sort_values(ascending=False).head(20).plot(kind='barh');\n",
    "plt.xlabel(\"Number of times word was mentioned.\")\n",
    "plt.ylabel(\"Top 20 Most Common Words\")\n",
    "plt.title(\"Count Vectorize Frequency\");"
   ]
  },
  {
   "cell_type": "markdown",
   "metadata": {},
   "source": [
    "__________\n",
    "# TF-ID Vectorizer"
   ]
  },
  {
   "cell_type": "code",
   "execution_count": 22,
   "metadata": {},
   "outputs": [],
   "source": [
    "tf = TfidfVectorizer(min_df=2,max_df=.98,stop_words=stopword) # use same params as CV\n",
    "# convert training data to dataframe\n",
    "tf_train = pd.DataFrame(tf.fit_transform(X_train).todense(), columns=tf.get_feature_names())"
   ]
  },
  {
   "cell_type": "code",
   "execution_count": 23,
   "metadata": {},
   "outputs": [
    {
     "data": {
      "text/plain": [
       "police         962.555422\n",
       "black          871.590004\n",
       "support        848.644681\n",
       "lives          805.631017\n",
       "matter         795.938266\n",
       "protest        790.636857\n",
       "movement       771.160224\n",
       "brutality      716.558906\n",
       "report         709.520007\n",
       "floyd          572.975770\n",
       "george         564.980493\n",
       "death          547.918949\n",
       "staged         525.904725\n",
       "hundreds       502.330901\n",
       "gathered       458.539427\n",
       "100            451.322337\n",
       "new            412.226975\n",
       "coronavirus    395.218174\n",
       "protested      394.706052\n",
       "marched        384.321424\n",
       "dtype: float64"
      ]
     },
     "execution_count": 23,
     "metadata": {},
     "output_type": "execute_result"
    }
   ],
   "source": [
    "tf_train.sum().sort_values(ascending=False).head(20)"
   ]
  },
  {
   "cell_type": "code",
   "execution_count": 24,
   "metadata": {},
   "outputs": [
    {
     "data": {
      "image/png": "[encoded data removed]",
      "text/plain": [
       "<Figure size 720x576 with 1 Axes>"
      ]
     },
     "metadata": {
      "needs_background": "light"
     },
     "output_type": "display_data"
    }
   ],
   "source": [
    "# plot top occuring words\n",
    "plt.figure(figsize=(10,8))\n",
    "tf_train.sum().sort_values(ascending=False).head(20).plot(kind='barh');\n",
    "plt.xlabel(\"Number of times word was mentioned.\")\n",
    "plt.ylabel(\"Top 20 Most Common Words\")\n",
    "plt.title(\"TF-ID Vectorize Frequency\");"
   ]
  },
  {
   "cell_type": "code",
   "execution_count": 25,
   "metadata": {},
   "outputs": [],
   "source": [
    "protest.to_csv('../Data/integrated_protest_gb.csv', index=False)"
   ]
  },
  {
   "cell_type": "markdown",
   "metadata": {},
   "source": [
    "### Reference 'Modeling.ipynb' for Count Vectorizer and TF-ID Vectorizer pipeline models"
   ]
  },
  {
   "cell_type": "markdown",
   "metadata": {},
   "source": [
    "_______\n",
    "# Sentimental Analysis"
   ]
  },
  {
   "cell_type": "code",
   "execution_count": 26,
   "metadata": {},
   "outputs": [],
   "source": [
    "# generate a loop that will consolidate all polarity scores into one list\n",
    "# instantiate the SIA() and append each score to a list\n",
    "# convert list into a dataframe\n",
    "sia = SentimentIntensityAnalyzer()\n",
    "scores = []\n",
    "for each in protest['notes']:\n",
    "    current_scores = sia.polarity_scores(each)\n",
    "    scores.append(current_scores)\n",
    "    "
   ]
  },
  {
   "cell_type": "code",
   "execution_count": 27,
   "metadata": {},
   "outputs": [],
   "source": [
    "scores_df = pd.DataFrame(scores) # convert scores list into dataframe"
   ]
  },
  {
   "cell_type": "code",
   "execution_count": 28,
   "metadata": {},
   "outputs": [
    {
     "data": {
      "text/html": [
       "<div>\n",
       "<style scoped>\n",
       "    .dataframe tbody tr th:only-of-type {\n",
       "        vertical-align: middle;\n",
       "    }\n",
       "\n",
       "    .dataframe tbody tr th {\n",
       "        vertical-align: top;\n",
       "    }\n",
       "\n",
       "    .dataframe thead th {\n",
       "        text-align: right;\n",
       "    }\n",
       "</style>\n",
       "<table border=\"1\" class=\"dataframe\">\n",
       "  <thead>\n",
       "    <tr style=\"text-align: right;\">\n",
       "      <th></th>\n",
       "      <th>neg</th>\n",
       "      <th>neu</th>\n",
       "      <th>pos</th>\n",
       "      <th>compound</th>\n",
       "    </tr>\n",
       "  </thead>\n",
       "  <tbody>\n",
       "    <tr>\n",
       "      <th>0</th>\n",
       "      <td>0.064</td>\n",
       "      <td>0.784</td>\n",
       "      <td>0.153</td>\n",
       "      <td>0.6369</td>\n",
       "    </tr>\n",
       "    <tr>\n",
       "      <th>1</th>\n",
       "      <td>0.000</td>\n",
       "      <td>0.723</td>\n",
       "      <td>0.277</td>\n",
       "      <td>0.8625</td>\n",
       "    </tr>\n",
       "    <tr>\n",
       "      <th>2</th>\n",
       "      <td>0.147</td>\n",
       "      <td>0.779</td>\n",
       "      <td>0.074</td>\n",
       "      <td>-0.7184</td>\n",
       "    </tr>\n",
       "    <tr>\n",
       "      <th>3</th>\n",
       "      <td>0.103</td>\n",
       "      <td>0.850</td>\n",
       "      <td>0.047</td>\n",
       "      <td>-0.3400</td>\n",
       "    </tr>\n",
       "    <tr>\n",
       "      <th>4</th>\n",
       "      <td>0.163</td>\n",
       "      <td>0.807</td>\n",
       "      <td>0.030</td>\n",
       "      <td>-0.7430</td>\n",
       "    </tr>\n",
       "    <tr>\n",
       "      <th>...</th>\n",
       "      <td>...</td>\n",
       "      <td>...</td>\n",
       "      <td>...</td>\n",
       "      <td>...</td>\n",
       "    </tr>\n",
       "    <tr>\n",
       "      <th>27624</th>\n",
       "      <td>0.033</td>\n",
       "      <td>0.853</td>\n",
       "      <td>0.114</td>\n",
       "      <td>0.6705</td>\n",
       "    </tr>\n",
       "    <tr>\n",
       "      <th>27625</th>\n",
       "      <td>0.085</td>\n",
       "      <td>0.915</td>\n",
       "      <td>0.000</td>\n",
       "      <td>-0.6486</td>\n",
       "    </tr>\n",
       "    <tr>\n",
       "      <th>27626</th>\n",
       "      <td>0.060</td>\n",
       "      <td>0.833</td>\n",
       "      <td>0.107</td>\n",
       "      <td>0.2960</td>\n",
       "    </tr>\n",
       "    <tr>\n",
       "      <th>27627</th>\n",
       "      <td>0.212</td>\n",
       "      <td>0.674</td>\n",
       "      <td>0.114</td>\n",
       "      <td>-0.8910</td>\n",
       "    </tr>\n",
       "    <tr>\n",
       "      <th>27628</th>\n",
       "      <td>0.236</td>\n",
       "      <td>0.764</td>\n",
       "      <td>0.000</td>\n",
       "      <td>-0.8834</td>\n",
       "    </tr>\n",
       "  </tbody>\n",
       "</table>\n",
       "<p>27629 rows × 4 columns</p>\n",
       "</div>"
      ],
      "text/plain": [
       "         neg    neu    pos  compound\n",
       "0      0.064  0.784  0.153    0.6369\n",
       "1      0.000  0.723  0.277    0.8625\n",
       "2      0.147  0.779  0.074   -0.7184\n",
       "3      0.103  0.850  0.047   -0.3400\n",
       "4      0.163  0.807  0.030   -0.7430\n",
       "...      ...    ...    ...       ...\n",
       "27624  0.033  0.853  0.114    0.6705\n",
       "27625  0.085  0.915  0.000   -0.6486\n",
       "27626  0.060  0.833  0.107    0.2960\n",
       "27627  0.212  0.674  0.114   -0.8910\n",
       "27628  0.236  0.764  0.000   -0.8834\n",
       "\n",
       "[27629 rows x 4 columns]"
      ]
     },
     "execution_count": 28,
     "metadata": {},
     "output_type": "execute_result"
    }
   ],
   "source": [
    "scores_df # view the dataframe"
   ]
  },
  {
   "cell_type": "code",
   "execution_count": 29,
   "metadata": {},
   "outputs": [],
   "source": [
    "# concate protest notes by it's sentimental analysis ratings\n",
    "quote_sia = pd.concat([protest[['Peaceful protest','notes']], scores_df], axis=1)# combine two dataframes side by side"
   ]
  },
  {
   "cell_type": "code",
   "execution_count": 30,
   "metadata": {},
   "outputs": [
    {
     "data": {
      "text/html": [
       "<div>\n",
       "<style scoped>\n",
       "    .dataframe tbody tr th:only-of-type {\n",
       "        vertical-align: middle;\n",
       "    }\n",
       "\n",
       "    .dataframe tbody tr th {\n",
       "        vertical-align: top;\n",
       "    }\n",
       "\n",
       "    .dataframe thead th {\n",
       "        text-align: right;\n",
       "    }\n",
       "</style>\n",
       "<table border=\"1\" class=\"dataframe\">\n",
       "  <thead>\n",
       "    <tr style=\"text-align: right;\">\n",
       "      <th></th>\n",
       "      <th>Peaceful protest</th>\n",
       "      <th>notes</th>\n",
       "      <th>neg</th>\n",
       "      <th>neu</th>\n",
       "      <th>pos</th>\n",
       "      <th>compound</th>\n",
       "    </tr>\n",
       "  </thead>\n",
       "  <tbody>\n",
       "    <tr>\n",
       "      <th>0</th>\n",
       "      <td>1</td>\n",
       "      <td>On 1 January 2020, an unknown number of people...</td>\n",
       "      <td>0.064</td>\n",
       "      <td>0.784</td>\n",
       "      <td>0.153</td>\n",
       "      <td>0.6369</td>\n",
       "    </tr>\n",
       "    <tr>\n",
       "      <th>1</th>\n",
       "      <td>1</td>\n",
       "      <td>On 1 January 2020, people held a peace march o...</td>\n",
       "      <td>0.000</td>\n",
       "      <td>0.723</td>\n",
       "      <td>0.277</td>\n",
       "      <td>0.8625</td>\n",
       "    </tr>\n",
       "    <tr>\n",
       "      <th>2</th>\n",
       "      <td>1</td>\n",
       "      <td>On 1 January 2020, a group of people gathered ...</td>\n",
       "      <td>0.147</td>\n",
       "      <td>0.779</td>\n",
       "      <td>0.074</td>\n",
       "      <td>-0.7184</td>\n",
       "    </tr>\n",
       "    <tr>\n",
       "      <th>3</th>\n",
       "      <td>1</td>\n",
       "      <td>On 1 January 2020, a group of people gathered ...</td>\n",
       "      <td>0.103</td>\n",
       "      <td>0.850</td>\n",
       "      <td>0.047</td>\n",
       "      <td>-0.3400</td>\n",
       "    </tr>\n",
       "    <tr>\n",
       "      <th>4</th>\n",
       "      <td>1</td>\n",
       "      <td>On 1 January 2020, protesters against Oklahoma...</td>\n",
       "      <td>0.163</td>\n",
       "      <td>0.807</td>\n",
       "      <td>0.030</td>\n",
       "      <td>-0.7430</td>\n",
       "    </tr>\n",
       "    <tr>\n",
       "      <th>...</th>\n",
       "      <td>...</td>\n",
       "      <td>...</td>\n",
       "      <td>...</td>\n",
       "      <td>...</td>\n",
       "      <td>...</td>\n",
       "      <td>...</td>\n",
       "    </tr>\n",
       "    <tr>\n",
       "      <th>27624</th>\n",
       "      <td>1</td>\n",
       "      <td>On 5 March 2021, between a dozen and 40 studen...</td>\n",
       "      <td>0.033</td>\n",
       "      <td>0.853</td>\n",
       "      <td>0.114</td>\n",
       "      <td>0.6705</td>\n",
       "    </tr>\n",
       "    <tr>\n",
       "      <th>27625</th>\n",
       "      <td>1</td>\n",
       "      <td>On 5 March 2021, over a dozen members of PETA ...</td>\n",
       "      <td>0.085</td>\n",
       "      <td>0.915</td>\n",
       "      <td>0.000</td>\n",
       "      <td>-0.6486</td>\n",
       "    </tr>\n",
       "    <tr>\n",
       "      <th>27626</th>\n",
       "      <td>1</td>\n",
       "      <td>On 5 March 2021, parents protested in Verona (...</td>\n",
       "      <td>0.060</td>\n",
       "      <td>0.833</td>\n",
       "      <td>0.107</td>\n",
       "      <td>0.2960</td>\n",
       "    </tr>\n",
       "    <tr>\n",
       "      <th>27627</th>\n",
       "      <td>1</td>\n",
       "      <td>On 5 March 2021, relatives of more than a doze...</td>\n",
       "      <td>0.212</td>\n",
       "      <td>0.674</td>\n",
       "      <td>0.114</td>\n",
       "      <td>-0.8910</td>\n",
       "    </tr>\n",
       "    <tr>\n",
       "      <th>27628</th>\n",
       "      <td>0</td>\n",
       "      <td>On 5 March 2021, 22 people participated in a s...</td>\n",
       "      <td>0.236</td>\n",
       "      <td>0.764</td>\n",
       "      <td>0.000</td>\n",
       "      <td>-0.8834</td>\n",
       "    </tr>\n",
       "  </tbody>\n",
       "</table>\n",
       "<p>27629 rows × 6 columns</p>\n",
       "</div>"
      ],
      "text/plain": [
       "       Peaceful protest                                              notes  \\\n",
       "0                     1  On 1 January 2020, an unknown number of people...   \n",
       "1                     1  On 1 January 2020, people held a peace march o...   \n",
       "2                     1  On 1 January 2020, a group of people gathered ...   \n",
       "3                     1  On 1 January 2020, a group of people gathered ...   \n",
       "4                     1  On 1 January 2020, protesters against Oklahoma...   \n",
       "...                 ...                                                ...   \n",
       "27624                 1  On 5 March 2021, between a dozen and 40 studen...   \n",
       "27625                 1  On 5 March 2021, over a dozen members of PETA ...   \n",
       "27626                 1  On 5 March 2021, parents protested in Verona (...   \n",
       "27627                 1  On 5 March 2021, relatives of more than a doze...   \n",
       "27628                 0  On 5 March 2021, 22 people participated in a s...   \n",
       "\n",
       "         neg    neu    pos  compound  \n",
       "0      0.064  0.784  0.153    0.6369  \n",
       "1      0.000  0.723  0.277    0.8625  \n",
       "2      0.147  0.779  0.074   -0.7184  \n",
       "3      0.103  0.850  0.047   -0.3400  \n",
       "4      0.163  0.807  0.030   -0.7430  \n",
       "...      ...    ...    ...       ...  \n",
       "27624  0.033  0.853  0.114    0.6705  \n",
       "27625  0.085  0.915  0.000   -0.6486  \n",
       "27626  0.060  0.833  0.107    0.2960  \n",
       "27627  0.212  0.674  0.114   -0.8910  \n",
       "27628  0.236  0.764  0.000   -0.8834  \n",
       "\n",
       "[27629 rows x 6 columns]"
      ]
     },
     "execution_count": 30,
     "metadata": {},
     "output_type": "execute_result"
    }
   ],
   "source": [
    "quote_sia"
   ]
  },
  {
   "cell_type": "markdown",
   "metadata": {},
   "source": [
    "### Top 5 MOST Neutral according to vader"
   ]
  },
  {
   "cell_type": "code",
   "execution_count": 31,
   "metadata": {},
   "outputs": [
    {
     "data": {
      "text/html": [
       "<div>\n",
       "<style scoped>\n",
       "    .dataframe tbody tr th:only-of-type {\n",
       "        vertical-align: middle;\n",
       "    }\n",
       "\n",
       "    .dataframe tbody tr th {\n",
       "        vertical-align: top;\n",
       "    }\n",
       "\n",
       "    .dataframe thead th {\n",
       "        text-align: right;\n",
       "    }\n",
       "</style>\n",
       "<table border=\"1\" class=\"dataframe\">\n",
       "  <thead>\n",
       "    <tr style=\"text-align: right;\">\n",
       "      <th></th>\n",
       "      <th>Peaceful protest</th>\n",
       "      <th>notes</th>\n",
       "      <th>neg</th>\n",
       "      <th>neu</th>\n",
       "      <th>pos</th>\n",
       "      <th>compound</th>\n",
       "    </tr>\n",
       "  </thead>\n",
       "  <tbody>\n",
       "    <tr>\n",
       "      <th>16839</th>\n",
       "      <td>1</td>\n",
       "      <td>On 18 August 2020, a rally was held in Richmon...</td>\n",
       "      <td>0.0</td>\n",
       "      <td>1.0</td>\n",
       "      <td>0.0</td>\n",
       "      <td>0.0</td>\n",
       "    </tr>\n",
       "    <tr>\n",
       "      <th>24042</th>\n",
       "      <td>1</td>\n",
       "      <td>On 21 November 2020, people rallied in Hauppau...</td>\n",
       "      <td>0.0</td>\n",
       "      <td>1.0</td>\n",
       "      <td>0.0</td>\n",
       "      <td>0.0</td>\n",
       "    </tr>\n",
       "    <tr>\n",
       "      <th>24012</th>\n",
       "      <td>1</td>\n",
       "      <td>On 21 November 2020, between 80 and 100 people...</td>\n",
       "      <td>0.0</td>\n",
       "      <td>1.0</td>\n",
       "      <td>0.0</td>\n",
       "      <td>0.0</td>\n",
       "    </tr>\n",
       "    <tr>\n",
       "      <th>24040</th>\n",
       "      <td>0</td>\n",
       "      <td>Training: On 21 November 2020, the Utah Consti...</td>\n",
       "      <td>0.0</td>\n",
       "      <td>1.0</td>\n",
       "      <td>0.0</td>\n",
       "      <td>0.0</td>\n",
       "    </tr>\n",
       "    <tr>\n",
       "      <th>1022</th>\n",
       "      <td>1</td>\n",
       "      <td>On 24 January 2020, members of Covered Califor...</td>\n",
       "      <td>0.0</td>\n",
       "      <td>1.0</td>\n",
       "      <td>0.0</td>\n",
       "      <td>0.0</td>\n",
       "    </tr>\n",
       "  </tbody>\n",
       "</table>\n",
       "</div>"
      ],
      "text/plain": [
       "       Peaceful protest                                              notes  \\\n",
       "16839                 1  On 18 August 2020, a rally was held in Richmon...   \n",
       "24042                 1  On 21 November 2020, people rallied in Hauppau...   \n",
       "24012                 1  On 21 November 2020, between 80 and 100 people...   \n",
       "24040                 0  Training: On 21 November 2020, the Utah Consti...   \n",
       "1022                  1  On 24 January 2020, members of Covered Califor...   \n",
       "\n",
       "       neg  neu  pos  compound  \n",
       "16839  0.0  1.0  0.0       0.0  \n",
       "24042  0.0  1.0  0.0       0.0  \n",
       "24012  0.0  1.0  0.0       0.0  \n",
       "24040  0.0  1.0  0.0       0.0  \n",
       "1022   0.0  1.0  0.0       0.0  "
      ]
     },
     "execution_count": 31,
     "metadata": {},
     "output_type": "execute_result"
    }
   ],
   "source": [
    "quote_sia.sort_values(by='neu',ascending=False).head(5)"
   ]
  },
  {
   "cell_type": "code",
   "execution_count": 34,
   "metadata": {},
   "outputs": [
    {
     "data": {
      "text/plain": [
       "'On 18 August 2020, a rally was held in Richmond (Virginia) to call for police reform. [size=no report]'"
      ]
     },
     "execution_count": 34,
     "metadata": {},
     "output_type": "execute_result"
    }
   ],
   "source": [
    "# generate the most negative protest note\n",
    "neutral = quote_sia.sort_values(by='neu',ascending=False) # sort from most to least\n",
    "neutral_1 = [x for x in neutral['notes']] # used list comprehension to show each value to ['notes']\n",
    "neutral_1[0] # show first index"
   ]
  },
  {
   "cell_type": "markdown",
   "metadata": {},
   "source": [
    "### Top 5 MOST NEGATIVE according to vader"
   ]
  },
  {
   "cell_type": "code",
   "execution_count": 35,
   "metadata": {},
   "outputs": [
    {
     "data": {
      "text/html": [
       "<div>\n",
       "<style scoped>\n",
       "    .dataframe tbody tr th:only-of-type {\n",
       "        vertical-align: middle;\n",
       "    }\n",
       "\n",
       "    .dataframe tbody tr th {\n",
       "        vertical-align: top;\n",
       "    }\n",
       "\n",
       "    .dataframe thead th {\n",
       "        text-align: right;\n",
       "    }\n",
       "</style>\n",
       "<table border=\"1\" class=\"dataframe\">\n",
       "  <thead>\n",
       "    <tr style=\"text-align: right;\">\n",
       "      <th></th>\n",
       "      <th>Peaceful protest</th>\n",
       "      <th>notes</th>\n",
       "      <th>neg</th>\n",
       "      <th>neu</th>\n",
       "      <th>pos</th>\n",
       "      <th>compound</th>\n",
       "    </tr>\n",
       "  </thead>\n",
       "  <tbody>\n",
       "    <tr>\n",
       "      <th>12946</th>\n",
       "      <td>1</td>\n",
       "      <td>On 2 July 2020, an unknown number of relatives...</td>\n",
       "      <td>0.448</td>\n",
       "      <td>0.448</td>\n",
       "      <td>0.104</td>\n",
       "      <td>-0.9393</td>\n",
       "    </tr>\n",
       "    <tr>\n",
       "      <th>13446</th>\n",
       "      <td>1</td>\n",
       "      <td>On 7 July 2020, an unknown number of people jo...</td>\n",
       "      <td>0.436</td>\n",
       "      <td>0.541</td>\n",
       "      <td>0.023</td>\n",
       "      <td>-0.9741</td>\n",
       "    </tr>\n",
       "    <tr>\n",
       "      <th>15610</th>\n",
       "      <td>1</td>\n",
       "      <td>On 1 August 2020, people protested in Topeka, ...</td>\n",
       "      <td>0.429</td>\n",
       "      <td>0.571</td>\n",
       "      <td>0.000</td>\n",
       "      <td>-0.8591</td>\n",
       "    </tr>\n",
       "    <tr>\n",
       "      <th>16144</th>\n",
       "      <td>1</td>\n",
       "      <td>On 8 August 2020, dozens of people joined a 'S...</td>\n",
       "      <td>0.422</td>\n",
       "      <td>0.578</td>\n",
       "      <td>0.000</td>\n",
       "      <td>-0.9081</td>\n",
       "    </tr>\n",
       "    <tr>\n",
       "      <th>14944</th>\n",
       "      <td>1</td>\n",
       "      <td>On 25 July 2020, dozens of protested in Spring...</td>\n",
       "      <td>0.421</td>\n",
       "      <td>0.579</td>\n",
       "      <td>0.000</td>\n",
       "      <td>-0.7906</td>\n",
       "    </tr>\n",
       "  </tbody>\n",
       "</table>\n",
       "</div>"
      ],
      "text/plain": [
       "       Peaceful protest                                              notes  \\\n",
       "12946                 1  On 2 July 2020, an unknown number of relatives...   \n",
       "13446                 1  On 7 July 2020, an unknown number of people jo...   \n",
       "15610                 1  On 1 August 2020, people protested in Topeka, ...   \n",
       "16144                 1  On 8 August 2020, dozens of people joined a 'S...   \n",
       "14944                 1  On 25 July 2020, dozens of protested in Spring...   \n",
       "\n",
       "         neg    neu    pos  compound  \n",
       "12946  0.448  0.448  0.104   -0.9393  \n",
       "13446  0.436  0.541  0.023   -0.9741  \n",
       "15610  0.429  0.571  0.000   -0.8591  \n",
       "16144  0.422  0.578  0.000   -0.9081  \n",
       "14944  0.421  0.579  0.000   -0.7906  "
      ]
     },
     "execution_count": 35,
     "metadata": {},
     "output_type": "execute_result"
    }
   ],
   "source": [
    "quote_sia.sort_values(by='neg',ascending=False).head(5)"
   ]
  },
  {
   "cell_type": "code",
   "execution_count": 36,
   "metadata": {},
   "outputs": [
    {
     "data": {
      "text/plain": [
       "'On 2 July 2020, an unknown number of relatives and friends of a teenager died from gun violence rallied in Atlanta (Fulton, Georgia) to denounce gun violence. [size=no report]'"
      ]
     },
     "execution_count": 36,
     "metadata": {},
     "output_type": "execute_result"
    }
   ],
   "source": [
    "# generate the most negative protest note\n",
    "negative = quote_sia.sort_values(by='neg',ascending=False)# sort from most to least\n",
    "negative_1 = [x for x in negative['notes']] # used list comprehension to show each value to ['notes']\n",
    "negative_1[0] # show first index"
   ]
  },
  {
   "cell_type": "markdown",
   "metadata": {},
   "source": [
    "### Top 5 MOST POSITIVE according to vader"
   ]
  },
  {
   "cell_type": "code",
   "execution_count": 37,
   "metadata": {},
   "outputs": [
    {
     "data": {
      "text/html": [
       "<div>\n",
       "<style scoped>\n",
       "    .dataframe tbody tr th:only-of-type {\n",
       "        vertical-align: middle;\n",
       "    }\n",
       "\n",
       "    .dataframe tbody tr th {\n",
       "        vertical-align: top;\n",
       "    }\n",
       "\n",
       "    .dataframe thead th {\n",
       "        text-align: right;\n",
       "    }\n",
       "</style>\n",
       "<table border=\"1\" class=\"dataframe\">\n",
       "  <thead>\n",
       "    <tr style=\"text-align: right;\">\n",
       "      <th></th>\n",
       "      <th>Peaceful protest</th>\n",
       "      <th>notes</th>\n",
       "      <th>neg</th>\n",
       "      <th>neu</th>\n",
       "      <th>pos</th>\n",
       "      <th>compound</th>\n",
       "    </tr>\n",
       "  </thead>\n",
       "  <tbody>\n",
       "    <tr>\n",
       "      <th>20397</th>\n",
       "      <td>1</td>\n",
       "      <td>On 26 September 2020, about 80 people marched ...</td>\n",
       "      <td>0.000</td>\n",
       "      <td>0.638</td>\n",
       "      <td>0.362</td>\n",
       "      <td>0.8807</td>\n",
       "    </tr>\n",
       "    <tr>\n",
       "      <th>16107</th>\n",
       "      <td>1</td>\n",
       "      <td>On 8 August 2020, pro-police supporters held a...</td>\n",
       "      <td>0.080</td>\n",
       "      <td>0.560</td>\n",
       "      <td>0.360</td>\n",
       "      <td>0.7906</td>\n",
       "    </tr>\n",
       "    <tr>\n",
       "      <th>11120</th>\n",
       "      <td>1</td>\n",
       "      <td>On 16 June 2020, LGBTQ demonstrators protested...</td>\n",
       "      <td>0.055</td>\n",
       "      <td>0.590</td>\n",
       "      <td>0.354</td>\n",
       "      <td>0.8442</td>\n",
       "    </tr>\n",
       "    <tr>\n",
       "      <th>7266</th>\n",
       "      <td>1</td>\n",
       "      <td>On 4 June 2020, hundreds of people supporting ...</td>\n",
       "      <td>0.139</td>\n",
       "      <td>0.515</td>\n",
       "      <td>0.345</td>\n",
       "      <td>0.7906</td>\n",
       "    </tr>\n",
       "    <tr>\n",
       "      <th>1898</th>\n",
       "      <td>1</td>\n",
       "      <td>On 25 February 2020, members of the United Dom...</td>\n",
       "      <td>0.061</td>\n",
       "      <td>0.593</td>\n",
       "      <td>0.345</td>\n",
       "      <td>0.9246</td>\n",
       "    </tr>\n",
       "  </tbody>\n",
       "</table>\n",
       "</div>"
      ],
      "text/plain": [
       "       Peaceful protest                                              notes  \\\n",
       "20397                 1  On 26 September 2020, about 80 people marched ...   \n",
       "16107                 1  On 8 August 2020, pro-police supporters held a...   \n",
       "11120                 1  On 16 June 2020, LGBTQ demonstrators protested...   \n",
       "7266                  1  On 4 June 2020, hundreds of people supporting ...   \n",
       "1898                  1  On 25 February 2020, members of the United Dom...   \n",
       "\n",
       "         neg    neu    pos  compound  \n",
       "20397  0.000  0.638  0.362    0.8807  \n",
       "16107  0.080  0.560  0.360    0.7906  \n",
       "11120  0.055  0.590  0.354    0.8442  \n",
       "7266   0.139  0.515  0.345    0.7906  \n",
       "1898   0.061  0.593  0.345    0.9246  "
      ]
     },
     "execution_count": 37,
     "metadata": {},
     "output_type": "execute_result"
    }
   ],
   "source": [
    "quote_sia.sort_values(by='pos',ascending=False).head(5)"
   ]
  },
  {
   "cell_type": "code",
   "execution_count": 38,
   "metadata": {},
   "outputs": [
    {
     "data": {
      "text/plain": [
       "'On 26 September 2020, about 80 people marched in a rally in Buffalo Grove (Illinois) for promoting peace and love. [size=about 80]'"
      ]
     },
     "execution_count": 38,
     "metadata": {},
     "output_type": "execute_result"
    }
   ],
   "source": [
    "# generate the most positve protest note\n",
    "positive = quote_sia.sort_values(by='pos',ascending=False)# sort from most to least\n",
    "positive_1 = [x for x in positive['notes']] # used list comprehension to show each value to ['notes']\n",
    "positive_1[0] # show first index"
   ]
  },
  {
   "cell_type": "code",
   "execution_count": null,
   "metadata": {},
   "outputs": [],
   "source": []
  }
 ],
 "metadata": {
  "kernelspec": {
   "display_name": "Python 3",
   "language": "python",
   "name": "python3"
  },
  "language_info": {
   "codemirror_mode": {
    "name": "ipython",
    "version": 3
   },
   "file_extension": ".py",
   "mimetype": "text/x-python",
   "name": "python",
   "nbconvert_exporter": "python",
   "pygments_lexer": "ipython3",
   "version": "3.8.5"
  }
 },
 "nbformat": 4,
 "nbformat_minor": 4
}
